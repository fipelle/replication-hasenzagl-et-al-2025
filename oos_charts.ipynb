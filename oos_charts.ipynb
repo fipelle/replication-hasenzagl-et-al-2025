{
 "cells": [
  {
   "cell_type": "markdown",
   "metadata": {},
   "source": [
    "*Packages and initial settings*"
   ]
  },
  {
   "cell_type": "code",
   "execution_count": 1,
   "metadata": {},
   "outputs": [
    {
     "data": {
      "text/html": [
       "<script>\n",
       "// Immediately-invoked-function-expression to avoid global variables.\n",
       "(function() {\n",
       "    var warning_div = document.getElementById(\"webio-warning-13903353666533876976\");\n",
       "    var hide = function () {\n",
       "        var script = document.getElementById(\"webio-setup-4567377296650493489\");\n",
       "        var parent = script && script.parentElement;\n",
       "        var grandparent = parent && parent.parentElement;\n",
       "        if (grandparent) {\n",
       "            grandparent.style.display = \"none\";\n",
       "        }\n",
       "        warning_div.style.display = \"none\";\n",
       "    };\n",
       "    if (typeof Jupyter !== \"undefined\") {\n",
       "        console.log(\"WebIO detected Jupyter notebook environment.\");\n",
       "        // Jupyter notebook.\n",
       "        var extensions = (\n",
       "            Jupyter\n",
       "            && Jupyter.notebook.config.data\n",
       "            && Jupyter.notebook.config.data.load_extensions\n",
       "        );\n",
       "        if (extensions && extensions[\"webio-jupyter-notebook\"]) {\n",
       "            // Extension already loaded.\n",
       "            console.log(\"Jupyter WebIO nbextension detected; not loading ad-hoc.\");\n",
       "            hide();\n",
       "            return;\n",
       "        }\n",
       "    } else if (window.location.pathname.includes(\"/lab\")) {\n",
       "        // Guessing JupyterLa\n",
       "        console.log(\"Jupyter Lab detected; make sure the @webio/jupyter-lab-provider labextension is installed.\");\n",
       "        hide();\n",
       "        return;\n",
       "    }\n",
       "})();\n",
       "\n",
       "</script>\n",
       "<p\n",
       "    id=\"webio-warning-13903353666533876976\"\n",
       "    class=\"output_text output_stderr\"\n",
       "    style=\"padding: 1em; font-weight: bold;\"\n",
       ">\n",
       "    Unable to load WebIO. Please make sure WebIO works for your Jupyter client.\n",
       "    For troubleshooting, please see <a href=\"https://juliagizmos.github.io/WebIO.jl/latest/providers/ijulia/\">\n",
       "    the WebIO/IJulia documentation</a>.\n",
       "    <!-- TODO: link to installation docs. -->\n",
       "</p>\n"
      ],
      "text/plain": [
       "HTML{String}(\"<script>\\n// Immediately-invoked-function-expression to avoid global variables.\\n(function() {\\n    var warning_div = document.getElementById(\\\"webio-warning-13903353666533876976\\\");\\n    var hide = function () {\\n        var script = document.getElementById(\\\"webio-setup-4567377296650493489\\\");\\n        var parent = script && script.parentElement;\\n        var grandparent = parent && parent.parentElement;\\n        if (grandparent) {\\n            grandparent.style.display = \\\"none\\\";\\n        }\\n        warning_div.style.display = \\\"none\\\";\\n    };\\n    if (typeof Jupyter !== \\\"undefined\\\") {\\n        console.log(\\\"WebIO detected Jupyter notebook environment.\\\");\\n        // Jupyter notebook.\\n        var extensions = (\\n            Jupyter\\n            && Jupyter.notebook.config.data\\n            && Jupyter.notebook.config.data.load_extensions\\n        );\\n        if (extensions && extensions[\\\"webio-jupyter-notebook\\\"]) {\\n            // Extension already loaded.\\n            console.log(\\\"Jupyter WebIO nbextension detected; not loading ad-hoc.\\\");\\n            hide();\\n            return;\\n        }\\n    } else if (window.location.pathname.includes(\\\"/lab\\\")) {\\n        // Guessing JupyterLa\\n        console.log(\\\"Jupyter Lab detected; make sure the @webio/jupyter-lab-provider labextension is installed.\\\");\\n        hide();\\n        return;\\n    }\\n})();\\n\\n</script>\\n<p\\n    id=\\\"webio-warning-13903353666533876976\\\"\\n    class=\\\"output_text output_stderr\\\"\\n    style=\\\"padding: 1em; font-weight: bold;\\\"\\n>\\n    Unable to load WebIO. Please make sure WebIO works for your Jupyter client.\\n    For troubleshooting, please see <a href=\\\"https://juliagizmos.github.io/WebIO.jl/latest/providers/ijulia/\\\">\\n    the WebIO/IJulia documentation</a>.\\n    <!-- TODO: link to installation docs. -->\\n</p>\\n\")"
      ]
     },
     "metadata": {},
     "output_type": "display_data"
    }
   ],
   "source": [
    "# Load packages\n",
    "using FileIO;\n",
    "using DataFrames;\n",
    "using Colors, PlotlyJS;\n",
    "using ORCA, PlotlyBase;\n",
    "using Dates;\n",
    "\n",
    "# Colors\n",
    "c1 = \"rgba(0, 48, 158, .75)\";\n",
    "c2 = \"rgba(255, 0, 0, .75)\";\n",
    "c3 = \"rgba(255, 190, 0, .75)\";\n",
    "\n",
    "titles = [\"CBO cycle: GDP\", \"Real GDP\", \"SPF: Real GDP\", \"Unemployment rate\", \"Employment\", \"Oil price\", \"CPI inflation\", \"SPF: Expected inflation\", \"UoM: Expected inflation\"];\n",
    "scales = [\"Bil. Chn. 2009\\$\", \"Bil. Chn. 2009\\$\", \"Bil. Chn. 2009\\$\", \"Percent\", \"Thous.\", \"\\$/Barrel\", \"Percent\", \"Percent\", \"Percent\"];\n",
    "\n",
    "# Baseline csv output folder\n",
    "baseline_path = \"./models/baseline_oos/results_csv\";\n",
    "\n",
    "# Restricted csv output folder\n",
    "restricted_path = \"./models/restricted_oos/results_csv\";"
   ]
  },
  {
   "cell_type": "markdown",
   "metadata": {},
   "source": [
    "*Load MSFE output*"
   ]
  },
  {
   "cell_type": "code",
   "execution_count": 2,
   "metadata": {},
   "outputs": [],
   "source": [
    "# Baseline\n",
    "baseline_msfe = DataFrame(load(\"$(baseline_path)/baseline_msfe_tc.csv\"));\n",
    "baseline_rw_msfe = DataFrame(load(\"$(baseline_path)/baseline_msfe_rw.csv\"));\n",
    "rename!(baseline_msfe, [:GDP, :GDP_SPF, :URATE, :EMPL, :OIL, :INFL, :INFL_SPF, :EXP_INFL]);\n",
    "rename!(baseline_rw_msfe, [:GDP, :GDP_SPF, :URATE, :EMPL, :OIL, :INFL, :INFL_SPF, :EXP_INFL]);\n",
    "\n",
    "# Restricted\n",
    "restricted_msfe = DataFrame(load(\"$(restricted_path)/restricted_msfe_tc.csv\"));\n",
    "restricted_rw_msfe = DataFrame(load(\"$(restricted_path)/restricted_msfe_rw.csv\"));\n",
    "rename!(restricted_msfe, [:CBO, :GDP, :GDP_SPF, :URATE, :EMPL, :OIL, :INFL, :INFL_SPF, :EXP_INFL]);\n",
    "rename!(restricted_rw_msfe, [:CBO, :GDP, :GDP_SPF, :URATE, :EMPL, :OIL, :INFL, :INFL_SPF, :EXP_INFL]);"
   ]
  },
  {
   "cell_type": "markdown",
   "metadata": {},
   "source": [
    "*Load output gap and potential output*"
   ]
  },
  {
   "cell_type": "code",
   "execution_count": 3,
   "metadata": {},
   "outputs": [],
   "source": [
    "# Baseline\n",
    "baseline_output_gap_df = DataFrame(load(\"$(baseline_path)/baseline_output_gap.csv\"));\n",
    "baseline_potential_yoy_df = DataFrame(load(\"$(baseline_path)/baseline_potential_output_yoy.csv\"));\n",
    "\n",
    "# Restricted\n",
    "restricted_output_gap_df = DataFrame(load(\"$(restricted_path)/restricted_output_gap.csv\"));\n",
    "restricted_potential_yoy_df = DataFrame(load(\"$(restricted_path)/restricted_potential_output_yoy.csv\"));\n",
    "\n",
    "# Last common release\n",
    "common_releases = intersect([Date(release) for release in names(baseline_output_gap_df)[2:end]], \n",
    "                            [Date(release) for release in names(restricted_output_gap_df)[2:end]]);\n",
    "\n",
    "last_common_release = maximum(common_releases);"
   ]
  },
  {
   "cell_type": "markdown",
   "metadata": {},
   "source": [
    "*Load (one-step ahead) forecast output*"
   ]
  },
  {
   "cell_type": "markdown",
   "metadata": {},
   "source": [
    "*1. Real GDP*"
   ]
  },
  {
   "cell_type": "code",
   "execution_count": 4,
   "metadata": {},
   "outputs": [],
   "source": [
    "# Horizon\n",
    "gdp_hz = 3;\n",
    "\n",
    "# Baseline\n",
    "baseline_gdp_forecast_df = DataFrame(load(\"$(baseline_path)/baseline_forecast_gdp.csv\"));\n",
    "baseline_gdp_forecast_df = DataFrame(releases = names(baseline_gdp_forecast_df)[2:end], baseline = collect(baseline_gdp_forecast_df[gdp_hz, 2:end]));\n",
    "\n",
    "# Restricted\n",
    "restricted_gdp_forecast_df = DataFrame(load(\"$(restricted_path)/restricted_forecast_gdp.csv\"));\n",
    "restricted_gdp_forecast_df = DataFrame(releases = names(restricted_gdp_forecast_df)[2:end], restricted = collect(restricted_gdp_forecast_df[gdp_hz, 2:end]));\n",
    "\n",
    "# Outer join\n",
    "gdp_forecast_df = outerjoin(baseline_gdp_forecast_df, restricted_gdp_forecast_df, on=:releases);\n",
    "sort!(gdp_forecast_df, :releases);\n",
    "\n",
    "# Fill-in the missing observations in baseline (corresponding to the \"restricted\" releases)\n",
    "for t=1:size(gdp_forecast_df,1)\n",
    "    if ismissing(gdp_forecast_df[t,:baseline]) && t > 1\n",
    "        gdp_forecast_df[t,:baseline] = gdp_forecast_df[t-1,:baseline];\n",
    "    end\n",
    "end\n",
    "\n",
    "# Load outturn\n",
    "gdp_outturn_df = DataFrame(load(\"$(restricted_path)/restricted_outturn_gdp.csv\"));\n",
    "gdp_outturn_df = DataFrame(releases = names(gdp_outturn_df)[2:end], outturn = collect(gdp_outturn_df[gdp_hz, 2:end]));\n",
    "sort!(gdp_outturn_df, :releases);\n",
    "\n",
    "# Add outturn to forecast_df\n",
    "gdp_forecast_df = outerjoin(gdp_forecast_df, gdp_outturn_df, on=:releases);\n",
    "\n",
    "# Convert cols to Array{Float64}\n",
    "gdp_forecast_df[!, :baseline] = convert(Array{Float64}, gdp_forecast_df[!,:baseline]);\n",
    "gdp_forecast_df[!, :restricted] = convert(Array{Float64}, gdp_forecast_df[!,:restricted]);\n",
    "gdp_forecast_df[!, :outturn] = convert(Array{Float64}, gdp_forecast_df[!,:outturn]);"
   ]
  },
  {
   "cell_type": "code",
   "execution_count": 5,
   "metadata": {},
   "outputs": [],
   "source": [
    "# Horizon\n",
    "headline_hz = 1;\n",
    "\n",
    "# Baseline\n",
    "baseline_headline_forecast_df = DataFrame(load(\"$(baseline_path)/baseline_forecast_headline.csv\"));\n",
    "baseline_headline_forecast_df = DataFrame(releases = names(baseline_headline_forecast_df)[2:end], baseline = collect(baseline_headline_forecast_df[headline_hz, 2:end]));\n",
    "\n",
    "# Restricted\n",
    "restricted_headline_forecast_df = DataFrame(load(\"$(restricted_path)/restricted_forecast_headline.csv\"));\n",
    "restricted_headline_forecast_df = DataFrame(releases = names(restricted_headline_forecast_df)[2:end], restricted = collect(restricted_headline_forecast_df[headline_hz, 2:end]));\n",
    "\n",
    "# Outer join\n",
    "headline_forecast_df = outerjoin(baseline_headline_forecast_df, restricted_headline_forecast_df, on=:releases);\n",
    "sort!(headline_forecast_df, :releases);\n",
    "\n",
    "# Fill-in the missing observations in baseline (corresponding to the \"restricted\"restricted releases)\n",
    "for t=1:size(headline_forecast_df,1)\n",
    "    if ismissing(headline_forecast_df[t,:baseline]) && t > 1\n",
    "        headline_forecast_df[t,:baseline] = headline_forecast_df[t-1,:baseline];\n",
    "    end\n",
    "end\n",
    "\n",
    "# Load outturn\n",
    "headline_outturn_df = DataFrame(load(\"$(restricted_path)/restricted_outturn_headline.csv\"));\n",
    "headline_outturn_df = DataFrame(releases = names(headline_outturn_df)[2:end], outturn = collect(headline_outturn_df[headline_hz, 2:end]));\n",
    "sort!(headline_outturn_df, :releases);\n",
    "\n",
    "# Add outturn to forecast_df\n",
    "headline_forecast_df = outerjoin(headline_forecast_df, headline_outturn_df, on=:releases);\n",
    "\n",
    "# Convert cols to Array{Float64}\n",
    "headline_forecast_df[!, :baseline] = convert(Array{Float64}, headline_forecast_df[!,:baseline]);\n",
    "headline_forecast_df[!, :restricted] = convert(Array{Float64}, headline_forecast_df[!,:restricted]);\n",
    "headline_forecast_df[!, :outturn] = convert(Array{Float64}, headline_forecast_df[!,:outturn]);"
   ]
  },
  {
   "cell_type": "markdown",
   "metadata": {},
   "source": [
    "*Forecasting evaluation charts*"
   ]
  },
  {
   "cell_type": "code",
   "execution_count": 6,
   "metadata": {},
   "outputs": [
    {
     "data": {
      "text/plain": [
       "\"./annex/MSFE.pdf\""
      ]
     },
     "execution_count": 6,
     "metadata": {},
     "output_type": "execute_result"
    }
   ],
   "source": [
    "figure = Array{Any}(undef, 9);\n",
    "\n",
    "for i=1:9\n",
    "    \n",
    "    # i-th data\n",
    "    ith_restricted_data = collect(skipmissing(restricted_msfe[:,i]));\n",
    "\n",
    "    # CBO cycle is not used in the baseline model\n",
    "    if i == 1\n",
    "        ith_baseline_data = NaN*ones(length(ith_restricted_data));\n",
    "    else\n",
    "        ith_baseline_data = collect(skipmissing(baseline_msfe[:,i-1]));\n",
    "    end\n",
    "    \n",
    "    # x-axis\n",
    "    if length(ith_restricted_data) == 12\n",
    "        xx = collect(1:1:12);\n",
    "        xx_title = \"Quarters\";\n",
    "    else\n",
    "        xx = collect(1:1:36);\n",
    "        xx_title = \"Months\";\n",
    "    end\n",
    "    \n",
    "    # Chart\n",
    "    trace1 = scatter(x=xx, y=ith_baseline_data, line=attr(width=1.4, color=c1), marker_symbol=\"x\", mode=\"lines+markers\", showlegend=i==2, name=\"Baseline\");\n",
    "    trace2 = scatter(x=xx, y=ith_restricted_data, line=attr(width=1.4, color=c2), marker_symbol=\"x\", mode=\"lines+markers\", showlegend=i==2, name=\"Restricted\");\n",
    "    \n",
    "    layout = Layout(title=titles[i], titlefont_size=12,\n",
    "                    xaxis=attr(tickfont_size=10, showgrid=true, linecolor=\"black\", mirror=true, nticks=10, tickangle=0, range=[minimum(xx), maximum(xx)], titlefont=attr(size=10), title=xx_title),\n",
    "                    yaxis=attr(zeroline=false, tickfont_size=10, showgrid=true, linecolor=\"black\", nticks=10, mirror=true, titlefont=attr(size=10), title=scales[i]));\n",
    "        \n",
    "    figure[i] = plot([trace1, trace2], layout);\n",
    "end\n",
    "\n",
    "fig = [figure[1] figure[2] figure[3]; figure[4] figure[5] figure[6]; figure[7] figure[8] figure[9]];\n",
    "\n",
    "# Size\n",
    "fig.plot.layout[\"width\"]  = 1000;\n",
    "fig.plot.layout[\"height\"] = 800;\n",
    "\n",
    "# Margins\n",
    "fig.plot.layout[\"margin\"][:b]  = 40;\n",
    "fig.plot.layout[\"margin\"][:t]  = 40;\n",
    "fig.plot.layout[\"margin\"][:r]  = 40;\n",
    "fig.plot.layout[\"margin\"][:l]  = 40;\n",
    "\n",
    "# Title size\n",
    "for i=1:9\n",
    "    fig.plot.layout[\"annotations\"][i][:font][:size] = 12;\n",
    "end\n",
    "\n",
    "fig.plot.layout[\"legend\"] = attr(y=-0.08, x=0.403, font=attr(size=10), orientation=\"h\")\n",
    "\n",
    "PlotlyBase.savefig(fig, \"./annex/MSFE.pdf\", format=\"pdf\")"
   ]
  },
  {
   "cell_type": "code",
   "execution_count": 7,
   "metadata": {},
   "outputs": [
    {
     "data": {
      "text/plain": [
       "\"./annex/RMSFE.pdf\""
      ]
     },
     "execution_count": 7,
     "metadata": {},
     "output_type": "execute_result"
    }
   ],
   "source": [
    "figure = Array{Any}(undef, 9);\n",
    "\n",
    "for i=1:9\n",
    "    \n",
    "    # i-th data\n",
    "    ith_restricted_data = collect(skipmissing(restricted_msfe[:,i]./restricted_rw_msfe[:,i]));\n",
    "\n",
    "    # CBO cycle is not used in the baseline model\n",
    "    if i == 1\n",
    "        ith_baseline_data = NaN*ones(length(ith_restricted_data));\n",
    "    else\n",
    "        ith_baseline_data = collect(skipmissing(baseline_msfe[:,i-1]./baseline_rw_msfe[:,i-1]));\n",
    "    end\n",
    "    \n",
    "    # x-axis\n",
    "    if length(ith_restricted_data) == 12\n",
    "        xx = collect(1:1:12);\n",
    "        xx_title = \"Quarters\";\n",
    "    else\n",
    "        xx = collect(1:1:36);\n",
    "        xx_title = \"Months\";\n",
    "    end\n",
    "    \n",
    "    # Chart\n",
    "    trace1 = scatter(x=xx, y=ith_baseline_data, line=attr(width=1.4, color=c1), marker_symbol=\"x\", mode=\"lines+markers\", showlegend=i==2, name=\"Baseline\");\n",
    "    trace2 = scatter(x=xx, y=ith_restricted_data, line=attr(width=1.4, color=c2), marker_symbol=\"x\", mode=\"lines+markers\", showlegend=i==2, name=\"Restricted\");\n",
    "    trace3 = scatter(x=xx, y=ones(length(xx)), line=attr(width=1.4, color=\"black\", dash=\"dot\"), mode=\"lines\", showlegend=false);\n",
    "    \n",
    "    layout = Layout(title=titles[i], titlefont_size=12,\n",
    "                    xaxis=attr(tickfont_size=10, showgrid=true, linecolor=\"black\", mirror=true, nticks=10, tickangle=0, range=[minimum(xx), maximum(xx)], titlefont=attr(size=10), title=xx_title),\n",
    "                    yaxis=attr(zeroline=false, tickfont_size=10, showgrid=true, linecolor=\"black\", nticks=10, mirror=true, titlefont=attr(size=10), title=\"Model relative to RW\"));\n",
    "        \n",
    "    figure[i] = plot([trace1, trace2, trace3], layout);\n",
    "end\n",
    "\n",
    "fig = [figure[1] figure[2] figure[3]; figure[4] figure[5] figure[6]; figure[7] figure[8] figure[9]];\n",
    "\n",
    "# Size\n",
    "fig.plot.layout[\"width\"]  = 1000;\n",
    "fig.plot.layout[\"height\"] = 800;\n",
    "\n",
    "# Margins\n",
    "fig.plot.layout[\"margin\"][:b]  = 40;\n",
    "fig.plot.layout[\"margin\"][:t]  = 40;\n",
    "fig.plot.layout[\"margin\"][:r]  = 40;\n",
    "fig.plot.layout[\"margin\"][:l]  = 40;\n",
    "\n",
    "# Title size\n",
    "for i=1:9\n",
    "    fig.plot.layout[\"annotations\"][i][:font][:size] = 12;\n",
    "end\n",
    "\n",
    "fig.plot.layout[\"legend\"] = attr(y=-0.08, x=0.403, font=attr(size=10), orientation=\"h\")\n",
    "\n",
    "PlotlyBase.savefig(fig, \"./annex/RMSFE.pdf\", format=\"pdf\")"
   ]
  },
  {
   "cell_type": "code",
   "execution_count": 8,
   "metadata": {},
   "outputs": [
    {
     "data": {
      "text/plain": [
       "\"./annex/RMSFE_restricted_rw.pdf\""
      ]
     },
     "execution_count": 8,
     "metadata": {},
     "output_type": "execute_result"
    }
   ],
   "source": [
    "figure = Array{Any}(undef, 9);\n",
    "\n",
    "for i=1:9\n",
    "    \n",
    "    # i-th data\n",
    "    ith_restricted_data = collect(skipmissing(restricted_msfe[:,i]./restricted_rw_msfe[:,i]));\n",
    "\n",
    "    # CBO cycle is not used in the baseline model\n",
    "    if i == 1\n",
    "        ith_baseline_data = NaN*ones(length(ith_restricted_data));\n",
    "    else\n",
    "        ith_baseline_data = collect(skipmissing(baseline_msfe[:,i-1]./restricted_rw_msfe[:,i]));\n",
    "    end\n",
    "    \n",
    "    # x-axis\n",
    "    if length(ith_restricted_data) == 12\n",
    "        xx = collect(1:1:12);\n",
    "        xx_title = \"Quarters\";\n",
    "    else\n",
    "        xx = collect(1:1:36);\n",
    "        xx_title = \"Months\";\n",
    "    end\n",
    "    \n",
    "    # Chart\n",
    "    trace1 = scatter(x=xx, y=ith_baseline_data, line=attr(width=1.4, color=c1), marker_symbol=\"x\", mode=\"lines+markers\", showlegend=i==2, name=\"Baseline\");\n",
    "    trace2 = scatter(x=xx, y=ith_restricted_data, line=attr(width=1.4, color=c2), marker_symbol=\"x\", mode=\"lines+markers\", showlegend=i==2, name=\"Restricted\");\n",
    "    trace3 = scatter(x=xx, y=ones(length(xx)), line=attr(width=1.4, color=\"black\", dash=\"dot\"), mode=\"lines\", showlegend=false);\n",
    "    \n",
    "    layout = Layout(title=titles[i], titlefont_size=12,\n",
    "                    xaxis=attr(tickfont_size=10, showgrid=true, linecolor=\"black\", mirror=true, nticks=10, tickangle=0, range=[minimum(xx), maximum(xx)], titlefont=attr(size=10), title=xx_title),\n",
    "                    yaxis=attr(zeroline=false, tickfont_size=10, showgrid=true, linecolor=\"black\", nticks=10, mirror=true, titlefont=attr(size=10), title=\"Model relative to RW\"));\n",
    "        \n",
    "    figure[i] = plot([trace1, trace2, trace3], layout);\n",
    "end\n",
    "\n",
    "fig = [figure[1] figure[2] figure[3]; figure[4] figure[5] figure[6]; figure[7] figure[8] figure[9]];\n",
    "\n",
    "# Size\n",
    "fig.plot.layout[\"width\"]  = 1000;\n",
    "fig.plot.layout[\"height\"] = 800;\n",
    "\n",
    "# Margins\n",
    "fig.plot.layout[\"margin\"][:b]  = 40;\n",
    "fig.plot.layout[\"margin\"][:t]  = 40;\n",
    "fig.plot.layout[\"margin\"][:r]  = 40;\n",
    "fig.plot.layout[\"margin\"][:l]  = 40;\n",
    "\n",
    "# Title size\n",
    "for i=1:9\n",
    "    fig.plot.layout[\"annotations\"][i][:font][:size] = 12;\n",
    "end\n",
    "\n",
    "fig.plot.layout[\"legend\"] = attr(y=-0.08, x=0.403, font=attr(size=10), orientation=\"h\")\n",
    "\n",
    "PlotlyBase.savefig(fig, \"./annex/RMSFE_restricted_rw.pdf\", format=\"pdf\")"
   ]
  },
  {
   "cell_type": "markdown",
   "metadata": {},
   "source": [
    "*Output gap and potential output charts*"
   ]
  },
  {
   "cell_type": "code",
   "execution_count": 9,
   "metadata": {},
   "outputs": [
    {
     "data": {
      "text/plain": [
       "\"./annex/output_gap_comparison.pdf\""
      ]
     },
     "execution_count": 9,
     "metadata": {},
     "output_type": "execute_result"
    }
   ],
   "source": [
    "trace1 = scatter(x=baseline_output_gap_df[:, 1], y=baseline_output_gap_df[!, Symbol(last_common_release)], line=attr(width=1.4, color=c1), mode=\"lines\", showlegend=true, name=\"Baseline\");\n",
    "trace2 = scatter(x=restricted_output_gap_df[:, 1], y=restricted_output_gap_df[!, Symbol(last_common_release)], line=attr(width=1.4, color=c2), mode=\"lines\", showlegend=true, name=\"Restricted\");\n",
    "\n",
    "layout = Layout(title=\"Output gap (as at $(Dates.format(last_common_release, \"dd/mm/yyyy\")))\", titlefont_size=12,\n",
    "                xaxis=attr(tickfont_size=10, showgrid=true, linecolor=\"black\", mirror=true, nticks=10, tickangle=0, titlefont=attr(size=10)),\n",
    "                yaxis=attr(zeroline=true, tickfont_size=10, showgrid=true, linecolor=\"black\", nticks=10, mirror=true, titlefont=attr(size=10), title=\"Percent\"));\n",
    "        \n",
    "fig = plot([trace1, trace2], layout);\n",
    "\n",
    "# Size\n",
    "fig.plot.layout[\"width\"]  = 1000;\n",
    "fig.plot.layout[\"height\"] = 400;\n",
    "\n",
    "# Margins\n",
    "fig.plot.layout[\"margin\"][:b]  = 40;\n",
    "fig.plot.layout[\"margin\"][:t]  = 40;\n",
    "fig.plot.layout[\"margin\"][:r]  = 40;\n",
    "fig.plot.layout[\"margin\"][:l]  = 40;\n",
    "\n",
    "fig.plot.layout[\"legend\"] = attr(y=-0.11, x=0.416, font=attr(size=10), orientation=\"h\")\n",
    "\n",
    "PlotlyBase.savefig(fig, \"./annex/output_gap_comparison.pdf\", format=\"pdf\")"
   ]
  },
  {
   "cell_type": "code",
   "execution_count": 10,
   "metadata": {},
   "outputs": [
    {
     "data": {
      "text/plain": [
       "\"./annex/potential_yoy_comparison.pdf\""
      ]
     },
     "execution_count": 10,
     "metadata": {},
     "output_type": "execute_result"
    }
   ],
   "source": [
    "trace1 = scatter(x=baseline_potential_yoy_df[:, 1], y=baseline_potential_yoy_df[!, Symbol(last_common_release)], line=attr(width=1.4, color=c1), mode=\"lines\", showlegend=true, name=\"Baseline\");\n",
    "trace2 = scatter(x=restricted_potential_yoy_df[:, 1], y=restricted_potential_yoy_df[!, Symbol(last_common_release)], line=attr(width=1.4, color=c2), mode=\"lines\", showlegend=true, name=\"Restricted\");\n",
    "\n",
    "layout = Layout(title=\"Potential output (YoY, % - as at $(Dates.format(last_common_release, \"dd/mm/yyyy\")))\", titlefont_size=12,\n",
    "                xaxis=attr(tickfont_size=10, showgrid=true, linecolor=\"black\", mirror=true, nticks=10, tickangle=0, titlefont=attr(size=10)),\n",
    "                yaxis=attr(zeroline=false, tickfont_size=10, showgrid=true, linecolor=\"black\", nticks=10, mirror=true, titlefont=attr(size=10), title=\"Percent\"));\n",
    "        \n",
    "fig = plot([trace1, trace2], layout);\n",
    "\n",
    "# Size\n",
    "fig.plot.layout[\"width\"]  = 1000;\n",
    "fig.plot.layout[\"height\"] = 400;\n",
    "\n",
    "# Margins\n",
    "fig.plot.layout[\"margin\"][:b]  = 40;\n",
    "fig.plot.layout[\"margin\"][:t]  = 40;\n",
    "fig.plot.layout[\"margin\"][:r]  = 40;\n",
    "fig.plot.layout[\"margin\"][:l]  = 40;\n",
    "\n",
    "fig.plot.layout[\"legend\"] = attr(y=-0.11, x=0.416, font=attr(size=10), orientation=\"h\")\n",
    "\n",
    "PlotlyBase.savefig(fig, \"./annex/potential_yoy_comparison.pdf\", format=\"pdf\")"
   ]
  },
  {
   "cell_type": "markdown",
   "metadata": {},
   "source": [
    "*One-step ahead forecast charts*"
   ]
  },
  {
   "cell_type": "code",
   "execution_count": 11,
   "metadata": {},
   "outputs": [
    {
     "data": {
      "text/plain": [
       "\"./annex/gdp_forecast.pdf\""
      ]
     },
     "execution_count": 11,
     "metadata": {},
     "output_type": "execute_result"
    }
   ],
   "source": [
    "trace1 = scatter(x=gdp_forecast_df[!, :releases], y=gdp_forecast_df[!, :baseline], line=attr(width=1.4, color=c1), mode=\"lines\", showlegend=true, name=\"Baseline\");\n",
    "trace2 = scatter(x=gdp_forecast_df[!, :releases], y=gdp_forecast_df[!, :restricted], line=attr(width=1.4, color=c2), mode=\"lines\", showlegend=true, name=\"Restricted\");\n",
    "trace3 = scatter(x=gdp_forecast_df[!, :releases], y=gdp_forecast_df[!, :outturn], line=attr(width=1.4, color=\"black\", dash=\"dot\"), mode=\"lines\", showlegend=true, name=\"Outturn\");\n",
    "    \n",
    "layout = Layout(title=\"Real GDP (one quarter ahead forecast)\", titlefont_size=12,\n",
    "                xaxis=attr(tickfont_size=10, showgrid=true, linecolor=\"black\", mirror=true, nticks=10, tickangle=0, range=[minimum(gdp_forecast_df[!, :releases]), maximum(gdp_forecast_df[!, :releases])], titlefont=attr(size=10), title=\"Releases\"),\n",
    "                yaxis=attr(zeroline=false, tickfont_size=10, showgrid=true, linecolor=\"black\", nticks=10, mirror=true, titlefont=attr(size=10), title=\"Bil. Chn. 2012\\$\"));\n",
    "        \n",
    "fig = plot([trace1, trace2, trace3], layout);\n",
    "\n",
    "# Size\n",
    "fig.plot.layout[\"width\"]  = 1000;\n",
    "fig.plot.layout[\"height\"] = 400;\n",
    "\n",
    "# Margins\n",
    "fig.plot.layout[\"margin\"][:b]  = 40;\n",
    "fig.plot.layout[\"margin\"][:t]  = 40;\n",
    "fig.plot.layout[\"margin\"][:r]  = 40;\n",
    "fig.plot.layout[\"margin\"][:l]  = 40;\n",
    "\n",
    "fig.plot.layout[\"legend\"] = attr(y=-0.22, x=0.35, font=attr(size=10), orientation=\"h\")\n",
    "\n",
    "PlotlyBase.savefig(fig, \"./annex/gdp_forecast.pdf\", format=\"pdf\")"
   ]
  },
  {
   "cell_type": "code",
   "execution_count": 12,
   "metadata": {},
   "outputs": [
    {
     "data": {
      "text/plain": [
       "\"./annex/headline_forecast.pdf\""
      ]
     },
     "execution_count": 12,
     "metadata": {},
     "output_type": "execute_result"
    }
   ],
   "source": [
    "trace1 = scatter(x=headline_forecast_df[!, :releases], y=headline_forecast_df[!, :baseline], line=attr(width=1.4, color=c1), mode=\"lines\", showlegend=true, name=\"Baseline\");\n",
    "trace2 = scatter(x=headline_forecast_df[!, :releases], y=headline_forecast_df[!, :restricted], line=attr(width=1.4, color=c2), mode=\"lines\", showlegend=true, name=\"Restricted\");\n",
    "trace3 = scatter(x=headline_forecast_df[!, :releases], y=headline_forecast_df[!, :outturn], line=attr(width=1.4, color=\"black\", dash=\"dot\"), mode=\"lines\", showlegend=true, name=\"Outturn\");\n",
    "    \n",
    "layout = Layout(title=\"Headline inflation (YoY, % - one month ahead forecast)\", titlefont_size=12,\n",
    "                xaxis=attr(tickfont_size=10, showgrid=true, linecolor=\"black\", mirror=true, nticks=10, tickangle=0, range=[minimum(headline_forecast_df[!, :releases]), maximum(headline_forecast_df[!, :releases])], titlefont=attr(size=10), title=\"Releases\"),\n",
    "                yaxis=attr(zeroline=false, tickfont_size=10, showgrid=true, linecolor=\"black\", nticks=10, mirror=true, titlefont=attr(size=10), title=\"Percent\"));\n",
    "        \n",
    "fig = plot([trace1, trace2, trace3], layout);\n",
    "\n",
    "# Size\n",
    "fig.plot.layout[\"width\"]  = 1000;\n",
    "fig.plot.layout[\"height\"] = 400;\n",
    "\n",
    "# Margins\n",
    "fig.plot.layout[\"margin\"][:b]  = 40;\n",
    "fig.plot.layout[\"margin\"][:t]  = 40;\n",
    "fig.plot.layout[\"margin\"][:r]  = 40;\n",
    "fig.plot.layout[\"margin\"][:l]  = 40;\n",
    "\n",
    "fig.plot.layout[\"legend\"] = attr(y=-0.22, x=0.35, font=attr(size=10), orientation=\"h\")\n",
    "\n",
    "PlotlyBase.savefig(fig, \"./annex/headline_forecast.pdf\", format=\"pdf\")"
   ]
  },
  {
   "cell_type": "code",
   "execution_count": null,
   "metadata": {},
   "outputs": [],
   "source": []
  }
 ],
 "metadata": {
  "@webio": {
   "lastCommId": null,
   "lastKernelId": null
  },
  "kernelspec": {
   "display_name": "Julia 1.0.5",
   "language": "julia",
   "name": "julia-1.0"
  },
  "language_info": {
   "file_extension": ".jl",
   "mimetype": "application/julia",
   "name": "julia",
   "version": "1.0.5"
  }
 },
 "nbformat": 4,
 "nbformat_minor": 4
}
