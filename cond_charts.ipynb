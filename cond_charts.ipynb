{
 "cells": [
  {
   "cell_type": "markdown",
   "metadata": {},
   "source": [
    "### Initial settings"
   ]
  },
  {
   "cell_type": "markdown",
   "metadata": {},
   "source": [
    "##### Libraries"
   ]
  },
  {
   "cell_type": "code",
   "execution_count": 1,
   "metadata": {
    "scrolled": false
   },
   "outputs": [
    {
     "data": {
      "text/html": [
       "<script>\n",
       "// Immediately-invoked-function-expression to avoid global variables.\n",
       "(function() {\n",
       "    var warning_div = document.getElementById(\"webio-warning-8529438378388191049\");\n",
       "    var hide = function () {\n",
       "        var script = document.getElementById(\"webio-setup-9711201932641018616\");\n",
       "        var parent = script && script.parentElement;\n",
       "        var grandparent = parent && parent.parentElement;\n",
       "        if (grandparent) {\n",
       "            grandparent.style.display = \"none\";\n",
       "        }\n",
       "        warning_div.style.display = \"none\";\n",
       "    };\n",
       "    if (typeof Jupyter !== \"undefined\") {\n",
       "        console.log(\"WebIO detected Jupyter notebook environment.\");\n",
       "        // Jupyter notebook.\n",
       "        var extensions = (\n",
       "            Jupyter\n",
       "            && Jupyter.notebook.config.data\n",
       "            && Jupyter.notebook.config.data.load_extensions\n",
       "        );\n",
       "        if (extensions && extensions[\"webio-jupyter-notebook\"]) {\n",
       "            // Extension already loaded.\n",
       "            console.log(\"Jupyter WebIO nbextension detected; not loading ad-hoc.\");\n",
       "            hide();\n",
       "            return;\n",
       "        }\n",
       "    } else if (window.location.pathname.includes(\"/lab\")) {\n",
       "        // Guessing JupyterLa\n",
       "        console.log(\"Jupyter Lab detected; make sure the @webio/jupyter-lab-provider labextension is installed.\");\n",
       "        hide();\n",
       "        return;\n",
       "    }\n",
       "})();\n",
       "\n",
       "</script>\n",
       "<p\n",
       "    id=\"webio-warning-8529438378388191049\"\n",
       "    class=\"output_text output_stderr\"\n",
       "    style=\"padding: 1em; font-weight: bold;\"\n",
       ">\n",
       "    Unable to load WebIO. Please make sure WebIO works for your Jupyter client.\n",
       "    For troubleshooting, please see <a href=\"https://juliagizmos.github.io/WebIO.jl/latest/providers/ijulia/\">\n",
       "    the WebIO/IJulia documentation</a>.\n",
       "    <!-- TODO: link to installation docs. -->\n",
       "</p>\n"
      ],
      "text/plain": [
       "HTML{String}(\"<script>\\n// Immediately-invoked-function-expression to avoid global variables.\\n(function() {\\n    var warning_div = document.getElementById(\\\"webio-warning-8529438378388191049\\\");\\n    var hide = function () {\\n        var script = document.getElementById(\\\"webio-setup-9711201932641018616\\\");\\n        var parent = script && script.parentElement;\\n        var grandparent = parent && parent.parentElement;\\n        if (grandparent) {\\n            grandparent.style.display = \\\"none\\\";\\n        }\\n        warning_div.style.display = \\\"none\\\";\\n    };\\n    if (typeof Jupyter !== \\\"undefined\\\") {\\n        console.log(\\\"WebIO detected Jupyter notebook environment.\\\");\\n        // Jupyter notebook.\\n        var extensions = (\\n            Jupyter\\n            && Jupyter.notebook.config.data\\n            && Jupyter.notebook.config.data.load_extensions\\n        );\\n        if (extensions && extensions[\\\"webio-jupyter-notebook\\\"]) {\\n            // Extension already loaded.\\n            console.log(\\\"Jupyter WebIO nbextension detected; not loading ad-hoc.\\\");\\n            hide();\\n            return;\\n        }\\n    } else if (window.location.pathname.includes(\\\"/lab\\\")) {\\n        // Guessing JupyterLa\\n        console.log(\\\"Jupyter Lab detected; make sure the @webio/jupyter-lab-provider labextension is installed.\\\");\\n        hide();\\n        return;\\n    }\\n})();\\n\\n</script>\\n<p\\n    id=\\\"webio-warning-8529438378388191049\\\"\\n    class=\\\"output_text output_stderr\\\"\\n    style=\\\"padding: 1em; font-weight: bold;\\\"\\n>\\n    Unable to load WebIO. Please make sure WebIO works for your Jupyter client.\\n    For troubleshooting, please see <a href=\\\"https://juliagizmos.github.io/WebIO.jl/latest/providers/ijulia/\\\">\\n    the WebIO/IJulia documentation</a>.\\n    <!-- TODO: link to installation docs. -->\\n</p>\\n\")"
      ]
     },
     "metadata": {},
     "output_type": "display_data"
    }
   ],
   "source": [
    "# ----- Load libraries -----\n",
    "\n",
    "using Dates;\n",
    "using JLD;\n",
    "using Distributions;\n",
    "using DataFrames;\n",
    "using Colors;\n",
    "\n",
    "# PlotlyJS\n",
    "using PlotlyJS;\n",
    "using ORCA;\n",
    "pltjs = PlotlyJS\n",
    "\n",
    "include(\"./code/JuSSM/JuSSM.jl\");\n",
    "using Main.JuSSM;"
   ]
  },
  {
   "cell_type": "markdown",
   "metadata": {},
   "source": [
    "##### Insert manual input"
   ]
  },
  {
   "cell_type": "code",
   "execution_count": 2,
   "metadata": {},
   "outputs": [],
   "source": [
    "# File path\n",
    "model_folder = \"./models/baseline_cond_2020/\";\n",
    "res_iis_name = \"_iis_2019\" \n",
    "\n",
    "# true for baseline, false for restricted\n",
    "is_baseline = true;"
   ]
  },
  {
   "cell_type": "markdown",
   "metadata": {},
   "source": [
    "##### Initial settings"
   ]
  },
  {
   "cell_type": "code",
   "execution_count": 3,
   "metadata": {},
   "outputs": [],
   "source": [
    "# ----- Load results from output file -----\n",
    "\n",
    "# In-sample output\n",
    "res_iis       = jldopen(\"$(model_folder)/results/res$(res_iis_name).jld\");\n",
    "nDraws        = read(res_iis, \"nDraws\");\n",
    "burnin        = read(res_iis, \"burnin\");\n",
    "σʸ            = permutedims(read(res_iis, \"σʸ\"));\n",
    "date          = read(res_iis, \"date\");\n",
    "chain_θ_bound = read(res_iis, \"chain_θ_bound\"); # d, Z, R, c, T, Q, λ, ρ, total\n",
    "MNEMONIC      = read(res_iis, \"MNEMONIC\");\n",
    "\n",
    "par_ind  = read(res_iis, \"par_ind\");\n",
    "\n",
    "par_size = SizeParSsm(sum(par_ind.d),\n",
    "                                 sum(sum(par_ind.Z)),\n",
    "                                 sum(sum(par_ind.R)),\n",
    "                                 sum(par_ind.c),\n",
    "                                 sum(sum(par_ind.T)),\n",
    "                                 sum(sum(par_ind.Q)),\n",
    "                                 sum(sum(par_ind.λ)),\n",
    "                                 sum(sum(par_ind.ρ)),\n",
    "                                 sum(par_ind.d) + sum(  sum(par_ind.Z)) + sum(sum(par_ind.R)) +\n",
    "                                    sum(par_ind.c) + sum(sum(par_ind.T)) + sum(sum(par_ind.Q)) +\n",
    "                                    sum(sum(par_ind.λ)) + sum(sum(par_ind.ρ)));\n",
    "\n",
    "# Conditional forecast output\n",
    "res        = jldopen(\"$(model_folder)/results/res.jld\");\n",
    "data       = read(res, \"data_cond\");\n",
    "distr_α    = read(res, \"distr_cond_α\");\n",
    "distr_fcst = read(res, \"distr_cond_fcst\");\n",
    "data[ismissing.(data)] .= NaN;\n",
    "\n",
    "# Offset\n",
    "restricted_offset = is_baseline == false |> Int64;"
   ]
  },
  {
   "cell_type": "code",
   "execution_count": 4,
   "metadata": {},
   "outputs": [],
   "source": [
    "# ----- Set titles, scales and idiosyncratic cycles and trends IDs -----\n",
    "\n",
    "n  = size(data)[2];\n",
    "TT = size(distr_α, 2);\n",
    "\n",
    "# Set trends and cycles id\n",
    "ind_trends = [10; collect(15:3:size(distr_α)[1])[1:3]; 28] # There is no index for inflation, please use if-else\n",
    "ind_cycles = [8; 11; collect(13:3:size(distr_α)[1])[1:4]; 24; 26];\n",
    "\n",
    "# Set titles and scales\n",
    "titles = [\"Real GDP\", \"SPF: Expected GDP\", \"Unemployment rate\", \"Employment\", \"Oil price\", \"CPI inflation\", \"SPF: Expected inflation\", \"UoM: Expected inflation\"];\n",
    "scales = [\"Bil. Chn. 2009\\$\", \"Bil. Chn. 2009\\$\", \"Percent\", \"Thous.\", \"\\$/Barrel\", \"Percent\", \"Percent\", \"Percent\"];\n",
    "\n",
    "if is_baseline == false\n",
    "    \n",
    "    # Set titles and scales\n",
    "    titles = vcat(\"CBO: Real GDP cycle\", titles);\n",
    "    scales = vcat(\"Bil. Chn. 2009\\$\", scales); # The first two entries are equal (that's fine)\n",
    "    \n",
    "    # Set trends and cycles id\n",
    "    ind_cycles = vcat(8, ind_cycles); # The first two entries are equal (that's fine)\n",
    "end"
   ]
  },
  {
   "cell_type": "code",
   "execution_count": 5,
   "metadata": {},
   "outputs": [],
   "source": [
    "#=\n",
    "The first coefficient in chain_θ_bound is the intercept (differencial) for GDP SPF\n",
    "Thus, starting from id 2 is correct\n",
    "=#\n",
    "\n",
    "Zᵖ = [ones(1, nDraws-burnin); \n",
    "      chain_θ_bound[2:4, burnin+1:end];\n",
    "      zeros(1, nDraws-burnin);\n",
    "      chain_θ_bound[5:7, burnin+1:end]];\n",
    " \n",
    "Zᵖ₂ = [zeros(1, nDraws-burnin); \n",
    "       chain_θ_bound[8:10, burnin+1:end];\n",
    "       zeros(1, nDraws-burnin);\n",
    "       chain_θ_bound[11:13, burnin+1:end]];\n",
    "\n",
    "Zᵖ₃ = [zeros(1, nDraws-burnin); \n",
    "       chain_θ_bound[14:16, burnin+1:end];\n",
    "       zeros(1, nDraws-burnin);\n",
    "       chain_θ_bound[17:19, burnin+1:end]];\n",
    "\n",
    "Zᵖ₄ = [zeros(1, nDraws-burnin); \n",
    "       chain_θ_bound[20:22, burnin+1:end];\n",
    "       zeros(1, nDraws-burnin);\n",
    "       chain_θ_bound[23:25, burnin+1:end]];\n",
    "\n",
    "Zᵉ = [zeros(4, nDraws-burnin); \n",
    "      ones(1, nDraws-burnin); \n",
    "      chain_θ_bound[26:28, burnin+1:end]];\n",
    "\n",
    "Zᵗ = [zeros(5, nDraws-burnin); \n",
    "      (1 ./ σʸ[end-2:end]).*ones(3, nDraws-burnin)];\n",
    "\n",
    "Z_GDP = [([1;3] ./ σʸ[[1,2] .+ restricted_offset]).*ones(2, nDraws-burnin);\n",
    "         zeros(6, nDraws-burnin)];\n",
    "\n",
    "if is_baseline == false\n",
    "\n",
    "    # Add loadings for the \"CBO: Real GDP cycle\"\n",
    "    Zᵖ    = vcat(ones(1, nDraws-burnin), Zᵖ);\n",
    "    Zᵖ₂   = vcat(zeros(1, nDraws-burnin), Zᵖ₂);\n",
    "    Zᵖ₃   = vcat(zeros(1, nDraws-burnin), Zᵖ₃);\n",
    "    Zᵖ₄   = vcat(zeros(1, nDraws-burnin), Zᵖ₄);\n",
    "    Zᵉ    = vcat(zeros(1, nDraws-burnin), Zᵉ);\n",
    "    Zᵗ    = vcat(zeros(1, nDraws-burnin), Zᵗ);\n",
    "    Z_GDP = vcat(zeros(1, nDraws-burnin), Z_GDP);\n",
    "end"
   ]
  },
  {
   "cell_type": "markdown",
   "metadata": {},
   "source": [
    "##### Collect states and compute quantiles"
   ]
  },
  {
   "cell_type": "code",
   "execution_count": 6,
   "metadata": {},
   "outputs": [],
   "source": [
    "PC = zeros(n, TT, nDraws-burnin);\n",
    "EP = zeros(n, TT, nDraws-burnin);\n",
    "T  = zeros(n, TT, nDraws-burnin);\n",
    "T_GDP = zeros(n, TT, nDraws-burnin);\n",
    "\n",
    "for i=1:nDraws-burnin   \n",
    "    PC[:, :, i] = (Zᵖ[:, i] .* distr_α[1, :, i]') .+ \n",
    "                  (Zᵖ₂[:, i] .* distr_α[2, :, i]') .+\n",
    "                  (Zᵖ₃[:, i] .* distr_α[3, :, i]') .+\n",
    "                  (Zᵖ₄[:, i] .* distr_α[4, :, i]');\n",
    "    \n",
    "    EP[:, :, i] = Zᵉ[:, i] .* distr_α[5, :, i]';\n",
    "    T[:, :, i]  = Zᵗ[:, i] .* distr_α[7, :, i]';\n",
    "    T_GDP[:, :, i] = Z_GDP[:, i] .* distr_α[10, :, i]';    \n",
    "    T_GDP[2 + restricted_offset, :, i] .+= chain_θ_bound[1,burnin+i];\n",
    "end"
   ]
  },
  {
   "cell_type": "code",
   "execution_count": 7,
   "metadata": {},
   "outputs": [],
   "source": [
    "# Collect distributions of idiosyncratic components\n",
    "iC = distr_α[ind_cycles, :, :];\n",
    "iT = distr_α[ind_trends, :, :];\n",
    "\n",
    "# Compute medians\n",
    "PCᵐ    = median(PC, dims=3)[:, :, 1]' .* σʸ;\n",
    "EPᵐ    = median(EP, dims=3)[:, :, 1]' .* σʸ;\n",
    "Tᵐ     = median(T, dims=3)[:, :, 1]' .* σʸ;\n",
    "T_GDPᵐ = median(T_GDP, dims=3)[:, :, 1]' .* σʸ;\n",
    "iCᵐ    = median(iC, dims=3)[:, :, 1]' .* σʸ;\n",
    "iTᵐ    = median(iT, dims=3)[:, :, 1]' .* σʸ[[1,3,4,5,8] .+ restricted_offset]';"
   ]
  },
  {
   "cell_type": "code",
   "execution_count": 8,
   "metadata": {},
   "outputs": [],
   "source": [
    "# Compute quantiles\n",
    "\n",
    "PC95 = zeros(size(PCᵐ));\n",
    "PC05 = zeros(size(PCᵐ));\n",
    "PC84 = zeros(size(PCᵐ));\n",
    "PC16 = zeros(size(PCᵐ));\n",
    "\n",
    "EP95 = zeros(size(EPᵐ));\n",
    "EP05 = zeros(size(EPᵐ));\n",
    "EP84 = zeros(size(EPᵐ));\n",
    "EP16 = zeros(size(EPᵐ));\n",
    "\n",
    "T95 = zeros(size(Tᵐ));\n",
    "T05 = zeros(size(Tᵐ));\n",
    "T84 = zeros(size(Tᵐ));\n",
    "T16 = zeros(size(Tᵐ));\n",
    "\n",
    "T_GDP95 = zeros(size(T_GDPᵐ));\n",
    "T_GDP05 = zeros(size(T_GDPᵐ));\n",
    "T_GDP84 = zeros(size(T_GDPᵐ));\n",
    "T_GDP16 = zeros(size(T_GDPᵐ));\n",
    "\n",
    "iC95 = zeros(size(iCᵐ));\n",
    "iC05 = zeros(size(iCᵐ));\n",
    "iC84 = zeros(size(iCᵐ));\n",
    "iC16 = zeros(size(iCᵐ));\n",
    "\n",
    "iT95 = zeros(size(iTᵐ));\n",
    "iT05 = zeros(size(iTᵐ));\n",
    "iT84 = zeros(size(iTᵐ));\n",
    "iT16 = zeros(size(iTᵐ));\n",
    "iTᵐ[:, 1] = copy(T_GDPᵐ[:, 1 + restricted_offset]);\n",
    "\n",
    "for i=1:size(data, 2)\n",
    "    for j=1:size(data, 1)\n",
    "        \n",
    "        PC95[j, i] = quantile(PC[i, j, :], 0.95) .* σʸ[i];\n",
    "        PC05[j, i] = quantile(PC[i, j, :], 0.05) .* σʸ[i];\n",
    "        PC84[j, i] = quantile(PC[i, j, :], 0.84) .* σʸ[i];\n",
    "        PC16[j, i] = quantile(PC[i, j, :], 0.16) .* σʸ[i];\n",
    "        \n",
    "        EP95[j, i] = quantile(EP[i, j, :], 0.95) .* σʸ[i];\n",
    "        EP05[j, i] = quantile(EP[i, j, :], 0.05) .* σʸ[i];\n",
    "        EP84[j, i] = quantile(EP[i, j, :], 0.84) .* σʸ[i];\n",
    "        EP16[j, i] = quantile(EP[i, j, :], 0.16) .* σʸ[i];\n",
    "\n",
    "        T95[j, i] = quantile(T[i, j, :], 0.95) .* σʸ[i];\n",
    "        T05[j, i] = quantile(T[i, j, :], 0.05) .* σʸ[i];\n",
    "        T84[j, i] = quantile(T[i, j, :], 0.84) .* σʸ[i];\n",
    "        T16[j, i] = quantile(T[i, j, :], 0.16) .* σʸ[i];\n",
    "\n",
    "        T_GDP95[j, i] = quantile(T_GDP[i, j, :], 0.95) .* σʸ[i];\n",
    "        T_GDP05[j, i] = quantile(T_GDP[i, j, :], 0.05) .* σʸ[i];\n",
    "        T_GDP84[j, i] = quantile(T_GDP[i, j, :], 0.84) .* σʸ[i];\n",
    "        T_GDP16[j, i] = quantile(T_GDP[i, j, :], 0.16) .* σʸ[i];\n",
    "\n",
    "        iC95[j, i] = quantile(iC[i, j, :], 0.95) .* σʸ[i];\n",
    "        iC05[j, i] = quantile(iC[i, j, :], 0.05) .* σʸ[i];\n",
    "        iC84[j, i] = quantile(iC[i, j, :], 0.84) .* σʸ[i];\n",
    "        iC16[j, i] = quantile(iC[i, j, :], 0.16) .* σʸ[i];\n",
    "        \n",
    "        if i == 1 + restricted_offset\n",
    "            iT95[j, i-restricted_offset] = copy(T_GDP95[j, i]);\n",
    "            iT05[j, i-restricted_offset] = copy(T_GDP05[j, i]);\n",
    "            iT84[j, i-restricted_offset] = copy(T_GDP84[j, i]);\n",
    "            iT16[j, i-restricted_offset] = copy(T_GDP16[j, i]);\n",
    "            \n",
    "        elseif i > 2 + restricted_offset && i <= 5 + restricted_offset\n",
    "            iT95[j, i-1-restricted_offset] = quantile(iT[i-1-restricted_offset, j, :], 0.95) .* σʸ[i];\n",
    "            iT05[j, i-1-restricted_offset] = quantile(iT[i-1-restricted_offset, j, :], 0.05) .* σʸ[i];\n",
    "            iT84[j, i-1-restricted_offset] = quantile(iT[i-1-restricted_offset, j, :], 0.84) .* σʸ[i];\n",
    "            iT16[j, i-1-restricted_offset] = quantile(iT[i-1-restricted_offset, j, :], 0.16) .* σʸ[i];\n",
    "            \n",
    "        elseif i == 8 + restricted_offset\n",
    "            iT95[j, i-3-restricted_offset] = quantile(iT[i-3-restricted_offset, j, :], 0.95) .* σʸ[i];\n",
    "            iT05[j, i-3-restricted_offset] = quantile(iT[i-3-restricted_offset, j, :], 0.05) .* σʸ[i];\n",
    "            iT84[j, i-3-restricted_offset] = quantile(iT[i-3-restricted_offset, j, :], 0.84) .* σʸ[i];\n",
    "            iT16[j, i-3-restricted_offset] = quantile(iT[i-3-restricted_offset, j, :], 0.16) .* σʸ[i];\n",
    "        end        \n",
    "    end\n",
    "end"
   ]
  },
  {
   "cell_type": "markdown",
   "metadata": {},
   "source": [
    "### Supplementary settings"
   ]
  },
  {
   "cell_type": "code",
   "execution_count": 9,
   "metadata": {},
   "outputs": [],
   "source": [
    "# ----- Dates: add h dates to date -----\n",
    "\n",
    "max_h = size(PCᵐ)[1] - size(date)[1];\n",
    "\n",
    "for hz=1:max_h\n",
    "    \n",
    "    last_month = Dates.month(date[end]);\n",
    "    last_year  = Dates.year(date[end]);\n",
    "    new_month  = copy(last_month) + 1;\n",
    "    new_year   = copy(last_year);\n",
    "    \n",
    "    if last_month + 1 > 12\n",
    "        new_year  += 1;\n",
    "        new_month  = 1;\n",
    "    end\n",
    "    \n",
    "    new_entry = Dates.lastdayofquarter(Date(new_year, new_month, 1));\n",
    "    date      = vcat(date, DateTime(new_entry));\n",
    "end\n",
    "\n",
    "last_observations = [findall(.~isnan.(data[:, i]))[end] for i=1:size(data,2)];"
   ]
  },
  {
   "cell_type": "markdown",
   "metadata": {},
   "source": [
    "### Charts"
   ]
  },
  {
   "cell_type": "markdown",
   "metadata": {
    "collapsed": true
   },
   "source": [
    "##### Historical decompositions"
   ]
  },
  {
   "cell_type": "code",
   "execution_count": 10,
   "metadata": {
    "scrolled": false
   },
   "outputs": [
    {
     "data": {
      "text/plain": [
       "\"./models/baseline_iis//img/historical_decomposition.pdf\""
      ]
     },
     "execution_count": 10,
     "metadata": {},
     "output_type": "execute_result"
    }
   ],
   "source": [
    "figures = Array{Any}(undef, size(data, 2));\n",
    "\n",
    "c1 = \"rgba(0, 48, 158, .75)\"; #\"rgba(0, 0, 158, .7)\";\n",
    "c2 = \"rgba(255, 0, 0, .75)\";\n",
    "c3 = \"rgba(255, 190, 0, .75)\";\n",
    "\n",
    "for i=1:size(data, 2)\n",
    "    trace1 = pltjs.bar(;x=date[1:last_observations[i]], y=PCᵐ[1:last_observations[i], i], name=\"Business cycle\", marker_color=c1, showlegend=i==1);\n",
    "    trace2 = pltjs.bar(x=date[1:last_observations[i]], y=EPᵐ[1:last_observations[i], i], name=\"Energy price cycle\", marker_color=c2, showlegend=i==1);\n",
    "    trace3 = pltjs.bar(x=date[1:last_observations[i]], y=iCᵐ[1:last_observations[i], i], name=\"Idiosyncratic cycle\", marker_color=c3, showlegend=i==1);\n",
    "    trace4 = pltjs.scatter(x=date[1:last_observations[i]], y=PCᵐ[1:last_observations[i], i]+EPᵐ[1:last_observations[i], i]+iCᵐ[1:last_observations[i], i], name=\"Total cycle\", mode=\"lines\", line=attr(width=1.4, color=\"black\"), showlegend=i==1)\n",
    "    \n",
    "    databar = [trace1, trace2, trace3, trace4];\n",
    "    \n",
    "        layout  = pltjs.Layout(;title=titles[i], titlefont_size=10,\n",
    "                               xaxis=attr(tickfont_size=14, showgrid=true, linecolor=\"black\", mirror=true, nticks=10, tickangle=-90),\n",
    "                               yaxis=attr(tickfont_size=14, showgrid=true, linecolor=\"black\", mirror=true, titlefont=attr(size=14), title=scales[i]),\n",
    "                               barmode=\"relative\", \n",
    "                               bargap=0,\n",
    "                               bargroupgap=0);\n",
    "        \n",
    "\n",
    "    figures[i] = pltjs.plot(databar, layout);\n",
    "end\n",
    "\n",
    "if is_baseline == true\n",
    "    fig = [figures[1] figures[2]; figures[3] figures[4]; figures[5] figures[6]; figures[7] figures[8]];\n",
    "else\n",
    "    fig = [figures[1] figures[2] figures[3]; figures[4] figures[5] figures[6]; figures[7] figures[8] figures[9]];\n",
    "end\n",
    "    \n",
    "# Bars\n",
    "fig.plot.layout[\"barmode\"] = \"relative\";\n",
    "fig.plot.layout[\"bargap\"]  = 0.02;\n",
    "\n",
    "# Margins\n",
    "fig.plot.layout[\"margin\"][:b]  = 40;\n",
    "fig.plot.layout[\"margin\"][:t]  = 40;\n",
    "fig.plot.layout[\"margin\"][:r]  = 40;\n",
    "fig.plot.layout[\"margin\"][:l]  = 40;\n",
    "\n",
    "# Title size\n",
    "for i=1:size(data, 2)\n",
    "    fig.plot.layout[\"annotations\"][i][:font][:size] = 20;\n",
    "end\n",
    "\n",
    "# Legend\n",
    "if is_baseline == true\n",
    "\n",
    "    # Size\n",
    "    fig.plot.layout[\"width\"]  = 800;\n",
    "    fig.plot.layout[\"height\"] = 1000;\n",
    "    fig.plot.layout[\"legend\"] = attr(orientation=\"h\", y=-0.08, x=0.065, font=attr(size=14))\n",
    "\n",
    "else\n",
    "    # Size\n",
    "    fig.plot.layout[\"width\"]  = 1000;\n",
    "    fig.plot.layout[\"height\"] = 800;\n",
    "    fig.plot.layout[\"legend\"] = attr(orientation=\"h\", y=-0.08, x=0.065, font=attr(size=14))\n",
    "end\n",
    "\n",
    "pltjs.savefig(fig, \"$(model_folder)/img/historical_decomposition.pdf\", format=\"pdf\")"
   ]
  },
  {
   "cell_type": "code",
   "execution_count": 11,
   "metadata": {},
   "outputs": [
    {
     "data": {
      "text/plain": [
       "\"./models/baseline_iis//img/historical_decomposition_fc.pdf\""
      ]
     },
     "execution_count": 11,
     "metadata": {},
     "output_type": "execute_result"
    }
   ],
   "source": [
    "figures = Array{Any}(undef, size(data, 2));\n",
    "\n",
    "c1 = \"rgba(0, 48, 158, .75)\"; #\"rgba(0, 0, 158, .7)\";\n",
    "c2 = \"rgba(255, 0, 0, .75)\";\n",
    "c3 = \"rgba(255, 190, 0, .75)\";\n",
    "\n",
    "for i=1:size(data, 2)\n",
    "    trace1 = pltjs.bar(;x=date[1:end], y=PCᵐ[1:end, i], name=\"Business cycle\", marker_color=c1, showlegend=i==1);\n",
    "    trace2 = pltjs.bar(x=date[1:end], y=EPᵐ[1:end, i], name=\"Energy price cycle\", marker_color=c2, showlegend=i==1);\n",
    "    trace3 = pltjs.bar(x=date[1:end], y=iCᵐ[1:end, i], name=\"Idiosyncratic cycle\", marker_color=c3, showlegend=i==1);\n",
    "    trace4 = pltjs.scatter(x=date[1:end], y=PCᵐ[1:end, i]+EPᵐ[1:end, i]+iCᵐ[1:end, i], name=\"Total cycle\", mode=\"lines\", line=attr(width=1.4, color=\"black\"), showlegend=i==1)\n",
    "    \n",
    "    databar = [trace1, trace2, trace3, trace4];\n",
    "    \n",
    "        layout  = pltjs.Layout(;title=titles[i], titlefont_size=10,\n",
    "                               xaxis=attr(tickfont_size=14, showgrid=true, linecolor=\"black\", mirror=true, nticks=10, tickangle=-90),\n",
    "                               yaxis=attr(tickfont_size=14, showgrid=true, linecolor=\"black\", mirror=true, titlefont=attr(size=14), title=scales[i]),\n",
    "                               barmode=\"relative\", \n",
    "                               bargap=0,\n",
    "                               bargroupgap=0);\n",
    "        \n",
    "\n",
    "    figures[i] = pltjs.plot(databar, layout);\n",
    "end\n",
    "\n",
    "if is_baseline == true\n",
    "    fig = [figures[1] figures[2]; figures[3] figures[4]; figures[5] figures[6]; figures[7] figures[8]];\n",
    "else\n",
    "    fig = [figures[1] figures[2] figures[3]; figures[4] figures[5] figures[6]; figures[7] figures[8] figures[9]];\n",
    "end\n",
    "    \n",
    "# Bars\n",
    "fig.plot.layout[\"barmode\"] = \"relative\";\n",
    "fig.plot.layout[\"bargap\"]  = 0.02;\n",
    "\n",
    "# Margins\n",
    "fig.plot.layout[\"margin\"][:b]  = 40;\n",
    "fig.plot.layout[\"margin\"][:t]  = 40;\n",
    "fig.plot.layout[\"margin\"][:r]  = 40;\n",
    "fig.plot.layout[\"margin\"][:l]  = 40;\n",
    "\n",
    "# Title size\n",
    "for i=1:size(data, 2)\n",
    "    fig.plot.layout[\"annotations\"][i][:font][:size] = 20;\n",
    "end\n",
    "\n",
    "# Legend\n",
    "if is_baseline == true\n",
    "\n",
    "    # Size\n",
    "    fig.plot.layout[\"width\"]  = 800;\n",
    "    fig.plot.layout[\"height\"] = 1000;\n",
    "    fig.plot.layout[\"legend\"] = attr(orientation=\"h\", y=-0.08, x=0.065, font=attr(size=14))\n",
    "\n",
    "else\n",
    "    # Size\n",
    "    fig.plot.layout[\"width\"]  = 1000;\n",
    "    fig.plot.layout[\"height\"] = 800;\n",
    "    fig.plot.layout[\"legend\"] = attr(orientation=\"h\", y=-0.08, x=0.065, font=attr(size=14))\n",
    "end\n",
    "\n",
    "pltjs.savefig(fig, \"$(model_folder)/img/historical_decomposition_fc.pdf\", format=\"pdf\")"
   ]
  },
  {
   "cell_type": "markdown",
   "metadata": {},
   "source": [
    "##### Trends"
   ]
  },
  {
   "cell_type": "code",
   "execution_count": 12,
   "metadata": {},
   "outputs": [
    {
     "data": {
      "text/plain": [
       "\"./models/baseline_iis//img/trend_real.pdf\""
      ]
     },
     "execution_count": 12,
     "metadata": {},
     "output_type": "execute_result"
    }
   ],
   "source": [
    "figures=Array{Any}(undef, 4)\n",
    "\n",
    "for i=[1,2,3,4] .+ restricted_offset\n",
    "    if i == 1 + restricted_offset\n",
    "        trace0 = pltjs.scatter(;x=date[3:3:last_observations[i]], y=data[3:3:last_observations[i], i], name=\"Data\", mode=\"lines\", line=attr(width=1.4, color=\"black\"), showlegend=i==4);\n",
    "        trace1 = pltjs.scatter(;x=date[3:3:last_observations[i]], y=T_GDPᵐ[1:3:last_observations[i], i] .+ T_GDPᵐ[2:3:last_observations[i], i] .+ T_GDPᵐ[3:3:last_observations[i], i], name=\"Trend\", mode=\"lines\", line=attr(color=\"rgba(0,0,0,0)\"), showlegend=false);\n",
    "        trace2 = pltjs.scatter(;x=date[3:3:last_observations[i]], y=T_GDP95[1:3:last_observations[i], i] .+ T_GDP95[2:3:last_observations[i], i] .+ T_GDP95[3:3:last_observations[i], i], name=\"CI, 90 pct.\", mode=\"lines\", fill=\"tonexty\", fillcolor=\"rgba(185, 185, 185, .40)\", line_color=\"transparent\", showlegend=i==4);\n",
    "        trace3 = pltjs.scatter(;x=date[3:3:last_observations[i]], y=T_GDP05[1:3:last_observations[i], i] .+ T_GDP05[2:3:last_observations[i], i] .+ T_GDP05[3:3:last_observations[i], i], name=\"CI, 90 pct.\", mode=\"lines\", fill=\"tonexty\", fillcolor=\"rgba(185, 185, 185, .40)\", line_color=\"transparent\", showlegend=false);\n",
    "        trace4 = pltjs.scatter(;x=date[3:3:last_observations[i]], y=T_GDP84[1:3:last_observations[i], i] .+ T_GDP84[2:3:last_observations[i], i] .+ T_GDP84[3:3:last_observations[i], i], name=\"CI, 84 pct.\", mode=\"lines\", fill=\"tonexty\", fillcolor=\"rgba(185, 185, 185, .70)\", line_color=\"transparent\", showlegend=i==4);\n",
    "        trace5 = pltjs.scatter(;x=date[3:3:last_observations[i]], y=T_GDP16[1:3:last_observations[i], i] .+ T_GDP16[2:3:last_observations[i], i] .+ T_GDP16[3:3:last_observations[i], i], name=\"CI, 84 pct.\", mode=\"lines\", fill=\"tonexty\", fillcolor=\"rgba(185, 185, 185, .70)\", line_color=\"transparent\", showlegend=false);\n",
    "        trace6 = pltjs.scatter(;x=date[3:3:last_observations[i]], y=T_GDPᵐ[1:3:last_observations[i], i] .+ T_GDPᵐ[2:3:last_observations[i], i] .+ T_GDPᵐ[3:3:last_observations[i], i], name=\"Trend\", mode=\"lines\", line=attr(width=1.4, color=\"rgba(0,0,255,1)\"), showlegend=i==4);\n",
    "\n",
    "\n",
    "    elseif i == 2 + restricted_offset\n",
    "        trace0 = pltjs.scatter(;x=date[3:3:end], y=data[3:3:end, i], name=\"Data\", mode=\"lines\", line=attr(width=1.4, color=\"black\"), showlegend=i==4);\n",
    "        trace1 = pltjs.scatter(;x=date[3:3:last_observations[i]], y=T_GDPᵐ[3:3:last_observations[i], i], name=\"Trend\", mode=\"lines\", line=attr(color=\"rgba(0,0,0,0)\"), showlegend=false);\n",
    "        trace2 = pltjs.scatter(;x=date[3:3:last_observations[i]], y=T_GDP95[3:3:last_observations[i], i], name=\"CI, 90%\", mode=\"lines\", fill=\"tonexty\", fillcolor=\"rgba(185, 185, 185, .40)\", line_color=\"transparent\", showlegend=i==4);\n",
    "        trace3 = pltjs.scatter(;x=date[3:3:last_observations[i]], y=T_GDP05[3:3:last_observations[i], i], name=\"CI, 90%\", mode=\"lines\", fill=\"tonexty\", fillcolor=\"rgba(185, 185, 185, .40)\", line_color=\"transparent\", showlegend=false);\n",
    "        trace4 = pltjs.scatter(;x=date[3:3:last_observations[i]], y=T_GDP84[3:3:last_observations[i], i], name=\"CI, 68%\", mode=\"lines\", fill=\"tonexty\", fillcolor=\"rgba(185, 185, 185, .70)\", line_color=\"transparent\", showlegend=i==4);\n",
    "        trace5 = pltjs.scatter(;x=date[3:3:last_observations[i]], y=T_GDP16[3:3:last_observations[i], i], name=\"CI, 68%\", mode=\"lines\", fill=\"tonexty\", fillcolor=\"rgba(185, 185, 185, .70)\", line_color=\"transparent\", showlegend=false);\n",
    "        trace6 = pltjs.scatter(;x=date[3:3:last_observations[i]], y=T_GDPᵐ[3:3:last_observations[i], i], name=\"Trend\", mode=\"lines\", line=attr(width=1.4, color=\"rgba(0,0,255,1)\"), showlegend=i==4);\n",
    "\n",
    "    else\n",
    "        trace0 = pltjs.scatter(;x=date[1:last_observations[i]], y=data[1:last_observations[i], i], name=\"Data\", mode=\"lines\", line=attr(width=1.4, color=\"black\"), showlegend=i==4);\n",
    "        trace1 = pltjs.scatter(;x=date[1:last_observations[i]], y=iTᵐ[1:last_observations[i], i-1-restricted_offset], name=\"Trend\", mode=\"lines\", line=attr(color=\"rgba(0,0,0,0)\"), showlegend=false);\n",
    "        trace2 = pltjs.scatter(;x=date[1:last_observations[i]], y=iT95[1:last_observations[i], i-1-restricted_offset], name=\"CI, 90%\", mode=\"lines\", fill=\"tonexty\", fillcolor=\"rgba(185, 185, 185, .40)\", line_color=\"transparent\", showlegend=i==4);\n",
    "        trace3 = pltjs.scatter(;x=date[1:last_observations[i]], y=iT05[1:last_observations[i], i-1-restricted_offset], name=\"CI, 90%\", mode=\"lines\", fill=\"tonexty\", fillcolor=\"rgba(185, 185, 185, .40)\", line_color=\"transparent\", showlegend=false);\n",
    "        trace4 = pltjs.scatter(;x=date[1:last_observations[i]], y=iT84[1:last_observations[i], i-1-restricted_offset], name=\"CI, 68%\", mode=\"lines\", fill=\"tonexty\", fillcolor=\"rgba(185, 185, 185, .70)\", line_color=\"transparent\", showlegend=i==4);\n",
    "        trace5 = pltjs.scatter(;x=date[1:last_observations[i]], y=iT16[1:last_observations[i], i-1-restricted_offset], name=\"CI, 68%\", mode=\"lines\", fill=\"tonexty\", fillcolor=\"rgba(185, 185, 185, .70)\", line_color=\"transparent\", showlegend=false);\n",
    "        trace6 = pltjs.scatter(;x=date[1:last_observations[i]], y=iTᵐ[1:last_observations[i], i-1-restricted_offset], name=\"Trend\", mode=\"lines\", line=attr(width=1.4, color=\"rgba(0,0,255,1)\"), showlegend=i==4);\n",
    "     end\n",
    "    \n",
    "     layout  = pltjs.Layout(;title=titles[i], titlefont=attr(size=12),\n",
    "                            xaxis=attr(tickfont_size=10, showgrid=true, linecolor=\"black\", mirror=true, nticks=10, tickangle=-90, zeroline=false),\n",
    "                            yaxis=attr(tickfont_size=10, showgrid=true, linecolor=\"black\", mirror=true, zeroline=false, titlefont=attr(size=10), title=scales[i]));\n",
    "     if i != 3\n",
    "         figures[i - restricted_offset] = pltjs.plot([trace1; trace2; \n",
    "                                                      trace1; trace3; \n",
    "                                                      trace1; trace4;\n",
    "                                                      trace1; trace5; \n",
    "                                                      trace6; trace0], layout);\n",
    "    else\n",
    "         figures[i- restricted_offset] = pltjs.plot([trace1; trace2; \n",
    "                                                     trace1; trace3; \n",
    "                                                     trace1; trace4;\n",
    "                                                     trace1; trace5; \n",
    "                                                     trace6; trace0], layout);\n",
    "    end\n",
    "end\n",
    "\n",
    "\n",
    "fig = [figures[1] figures[2]; figures[3] figures[4]];\n",
    "\n",
    "fig.plot.layout[\"width\"]  = 800;\n",
    "fig.plot.layout[\"height\"] = 650;\n",
    "\n",
    "# Margins\n",
    "fig.plot.layout[\"margin\"][:b]  = 40;\n",
    "fig.plot.layout[\"margin\"][:t]  = 40;\n",
    "fig.plot.layout[\"margin\"][:r]  = 40;\n",
    "fig.plot.layout[\"margin\"][:l]  = 40;\n",
    "\n",
    "# Title size\n",
    "for i=1:4\n",
    "    fig.plot.layout[\"annotations\"][i][:font][:size] = 12;\n",
    "end\n",
    "\n",
    "# Legend\n",
    "fig.plot.layout[\"legend\"] = attr(orientation=\"h\", y=-0.10, x=0.285, font=attr(size=10))\n",
    "\n",
    "pltjs.savefig(fig, \"$(model_folder)/img/trend_real.pdf\", format=\"pdf\")"
   ]
  },
  {
   "cell_type": "code",
   "execution_count": 13,
   "metadata": {
    "scrolled": false
   },
   "outputs": [
    {
     "data": {
      "text/plain": [
       "\"./models/baseline_iis//img/trend_inflation.pdf\""
      ]
     },
     "execution_count": 13,
     "metadata": {},
     "output_type": "execute_result"
    }
   ],
   "source": [
    "figures=Array{Any}(undef, 3)\n",
    "\n",
    "for i=[6,7,8] .+ restricted_offset\n",
    "    \n",
    "     if i != 7 + restricted_offset\n",
    "         trace0 = pltjs.scatter(;x=date[1:end], y=data[1:end, i], name=\"Data\", mode=\"lines\", line=attr(width=1.4, color=\"black\"), showlegend=i==6);\n",
    "     else\n",
    "         trace0 = pltjs.scatter(;x=date[1:end], y=data[1:end, i], name=\"Data\",mode=\"markers\", marker=attr(size=3, color=\"black\"), showlegend=i==6);\n",
    "     end\n",
    "    \n",
    "    if i != 7 + restricted_offset\n",
    "         trace0 = pltjs.scatter(;x=date[1:end], y=data[1:end, i], name=\"Data\", mode=\"lines\", line=attr(width=1.4, color=\"black\"), showlegend=i==6);\n",
    "         trace1 = pltjs.scatter(;x=date[1:last_observations[i]], y=Tᵐ[1:last_observations[i], i], name=\"Trend\", mode=\"lines\", line=attr(color=\"rgba(0,0,0,0)\"), showlegend=false);\n",
    "         trace2 = pltjs.scatter(;x=date[1:last_observations[i]], y=T95[1:last_observations[i], i], name=\"CI, 90%\", mode=\"lines\", fill=\"tonexty\", fillcolor=\"rgba(185, 185, 185, .40)\", line_color=\"transparent\", showlegend=i==6);\n",
    "         trace3 = pltjs.scatter(;x=date[1:last_observations[i]], y=T05[1:last_observations[i], i], name=\"CI, 90%\", mode=\"lines\", fill=\"tonexty\", fillcolor=\"rgba(185, 185, 185, .40)\", line_color=\"transparent\", showlegend=false);\n",
    "         trace4 = pltjs.scatter(;x=date[1:last_observations[i]], y=T84[1:last_observations[i], i], name=\"CI, 68%\", mode=\"lines\", fill=\"tonexty\", fillcolor=\"rgba(185, 185, 185, .70)\", line_color=\"transparent\", showlegend=i==6);\n",
    "         trace5 = pltjs.scatter(;x=date[1:last_observations[i]], y=T16[1:last_observations[i], i], name=\"CI, 68%\", mode=\"lines\", fill=\"tonexty\", fillcolor=\"rgba(185, 185, 185, .70)\", line_color=\"transparent\", showlegend=false);\n",
    "         trace6 = pltjs.scatter(;x=date[1:last_observations[i]], y=Tᵐ[1:last_observations[i], i], name=\"Trend\", mode=\"lines\", line=attr(width=1.4, color=\"rgba(0,0,255,1)\"), showlegend=i==6);\n",
    "\n",
    "    else\n",
    "        trace0 = pltjs.scatter(;x=date[3:3:end], y=data[3:3:end, i], name=\"Data\", mode=\"lines\", line=attr(width=1.4, color=\"black\"), showlegend=i==6);\n",
    "        trace1 = pltjs.scatter(;x=date[3:3:last_observations[i]], y=Tᵐ[3:3:last_observations[i], i], name=\"Trend\", mode=\"lines\", line=attr(color=\"rgba(0,0,0,0)\"), showlegend=false);\n",
    "        trace2 = pltjs.scatter(;x=date[3:3:last_observations[i]], y=T95[3:3:last_observations[i], i], name=\"CI, 90%\", mode=\"lines\", fill=\"tonexty\", fillcolor=\"rgba(185, 185, 185, .40)\", line_color=\"transparent\", showlegend=i==6);\n",
    "        trace3 = pltjs.scatter(;x=date[3:3:last_observations[i]], y=T05[3:3:last_observations[i], i], name=\"CI, 90%\", mode=\"lines\", fill=\"tonexty\", fillcolor=\"rgba(185, 185, 185, .40)\", line_color=\"transparent\", showlegend=false);\n",
    "        trace4 = pltjs.scatter(;x=date[3:3:last_observations[i]], y=T84[3:3:last_observations[i], i], name=\"CI, 68%\", mode=\"lines\", fill=\"tonexty\", fillcolor=\"rgba(185, 185, 185, .70)\", line_color=\"transparent\", showlegend=i==6);\n",
    "        trace5 = pltjs.scatter(;x=date[3:3:last_observations[i]], y=T16[3:3:last_observations[i], i], name=\"CI, 68%\", mode=\"lines\", fill=\"tonexty\", fillcolor=\"rgba(185, 185, 185, .70)\", line_color=\"transparent\", showlegend=false);\n",
    "        trace6 = pltjs.scatter(;x=date[3:3:last_observations[i]], y=Tᵐ[3:3:last_observations[i], i], name=\"Trend\", mode=\"lines\", line=attr(width=1.4, color=\"rgba(0,0,255,1)\"), showlegend=i==6);\n",
    "     end\n",
    "        \n",
    "     layout  = pltjs.Layout(;title=titles[i], titlefont=attr(size=12),\n",
    "                             xaxis=attr(tickfont_size=10, showgrid=true, linecolor=\"black\", mirror=true, nticks=10, tickangle=-90, zeroline=false, range=[date[1], date[last_observations[i]]]),\n",
    "                             yaxis=attr(tickfont_size=10, showgrid=true, linecolor=\"black\", mirror=true, zeroline=false, titlefont=attr(size=10), title=scales[i], range=[-2,8]));\n",
    "     \n",
    "     figures[i-5-restricted_offset] = pltjs.plot([trace1; trace2; \n",
    "                                                  trace1; trace3; \n",
    "                                                  trace1; trace4;\n",
    "                                                  trace1; trace5; \n",
    "                                                  trace6; trace0], layout);\n",
    "end\n",
    "\n",
    "fig = [figures[1]; figures[2]; figures[3]];\n",
    "\n",
    "fig.plot.layout[\"width\"]  = 800;\n",
    "fig.plot.layout[\"height\"] = 800;\n",
    "\n",
    "# Margins\n",
    "fig.plot.layout[\"margin\"][:b]  = 40;\n",
    "fig.plot.layout[\"margin\"][:t]  = 40;\n",
    "fig.plot.layout[\"margin\"][:r]  = 40;\n",
    "fig.plot.layout[\"margin\"][:l]  = 40;\n",
    "\n",
    "# Title size\n",
    "for i=1:3\n",
    "    fig.plot.layout[\"annotations\"][i][:font][:size] = 12;\n",
    "end\n",
    "\n",
    "# Legend\n",
    "fig.plot.layout[\"legend\"] = attr(orientation=\"h\", y=-0.08, x=0.285, font=attr(size=10))\n",
    "\n",
    "pltjs.savefig(fig, \"$(model_folder)/img/trend_inflation.pdf\", format=\"pdf\")"
   ]
  },
  {
   "cell_type": "markdown",
   "metadata": {},
   "source": [
    "##### Output gap"
   ]
  },
  {
   "cell_type": "code",
   "execution_count": 14,
   "metadata": {},
   "outputs": [],
   "source": [
    "# Compute output gap\n",
    "output_gap = 100*(PC[1 + restricted_offset, :, :] .+ iC[1 + restricted_offset, :, :])./T_GDP[1 + restricted_offset, :, :];\n",
    "output_gapᵐ = median(output_gap, dims=2)[:];\n",
    "\n",
    "# Compute quartelry cycles and trends for GDP\n",
    "quarterly_cycle = PC[1 + restricted_offset, 1:3:last_observations[1 + restricted_offset]+max_h, :] .+ PC[1 + restricted_offset, 2:3:last_observations[1 + restricted_offset]+max_h, :] .+ PC[1 + restricted_offset, 3:3:last_observations[1 + restricted_offset]+max_h, :] .+\n",
    "                  iC[1 + restricted_offset, 1:3:last_observations[1 + restricted_offset]+max_h, :] .+ iC[1 + restricted_offset, 2:3:last_observations[1 + restricted_offset]+max_h, :] .+ iC[1 + restricted_offset, 3:3:last_observations[1 + restricted_offset]+max_h, :];\n",
    "\n",
    "quarterly_trend = T_GDP[1 + restricted_offset, 1:3:last_observations[1 + restricted_offset]+max_h, :] .+ T_GDP[1 + restricted_offset, 2:3:last_observations[1 + restricted_offset]+max_h, :] .+ T_GDP[1 + restricted_offset, 3:3:last_observations[1 + restricted_offset]+max_h, :];\n",
    "\n",
    "# Compute quarterly output gap\n",
    "quarterly_output_gap  = 100*quarterly_cycle ./ quarterly_trend;\n",
    "quarterly_output_gapᵐ = median(quarterly_output_gap, dims=2)[:];"
   ]
  },
  {
   "cell_type": "code",
   "execution_count": 15,
   "metadata": {
    "scrolled": true
   },
   "outputs": [
    {
     "data": {
      "text/plain": [
       "\"./models/baseline_iis//img/output_gap_monthly.pdf\""
      ]
     },
     "execution_count": 15,
     "metadata": {},
     "output_type": "execute_result"
    }
   ],
   "source": [
    "figures = Array{Any}(undef,1)\n",
    "trace1 = pltjs.scatter(;x=date[1:end], y=output_gapᵐ, line=attr(color=\"red\"), name=\"Output gap\");\n",
    "\n",
    "layout = pltjs.Layout(;titlefont=attr(size=14), width=800, height=300)\n",
    "fig = pltjs.plot(trace1, layout);\n",
    "pltjs.savefig(fig, \"$(model_folder)/img/output_gap_monthly.pdf\", format=\"pdf\")"
   ]
  },
  {
   "cell_type": "code",
   "execution_count": 16,
   "metadata": {},
   "outputs": [
    {
     "data": {
      "text/plain": [
       "\"./models/baseline_iis//img/output_gap_quarterly.pdf\""
      ]
     },
     "execution_count": 16,
     "metadata": {},
     "output_type": "execute_result"
    }
   ],
   "source": [
    "figures = Array{Any}(undef,1)\n",
    "trace1 = pltjs.scatter(;x=date[3:3:end], y=quarterly_output_gapᵐ, line=attr(color=\"red\"), name=\"Output gap (quarterly)\");\n",
    "\n",
    "layout = pltjs.Layout(;titlefont=attr(size=14), width=800, height=300)\n",
    "fig = pltjs.plot(trace1, layout);\n",
    "pltjs.savefig(fig, \"$(model_folder)/img/output_gap_quarterly.pdf\", format=\"pdf\")"
   ]
  },
  {
   "cell_type": "markdown",
   "metadata": {},
   "source": [
    "#### Key forecasts"
   ]
  },
  {
   "cell_type": "markdown",
   "metadata": {},
   "source": [
    "##### Output"
   ]
  },
  {
   "cell_type": "markdown",
   "metadata": {},
   "source": [
    "##### Inflation"
   ]
  },
  {
   "cell_type": "markdown",
   "metadata": {},
   "source": [
    "### CSV output"
   ]
  },
  {
   "cell_type": "code",
   "execution_count": 17,
   "metadata": {},
   "outputs": [
    {
     "data": {
      "text/plain": [
       "\"./models/baseline_iis//results_csv/inflation_trend_monthly.csv\""
      ]
     },
     "execution_count": 17,
     "metadata": {},
     "output_type": "execute_result"
    }
   ],
   "source": [
    "using CSV;\n",
    "CSV.write(\"$(model_folder)/results_csv/output_gap_quarterly.csv\", DataFrame(x=quarterly_output_gapᵐ))\n",
    "CSV.write(\"$(model_folder)/results_csv/output_gap_monthly.csv\", DataFrame(x=output_gapᵐ))\n",
    "CSV.write(\"$(model_folder)/results_csv/output_trend_quarterly.csv\", DataFrame(x=σʸ[1 + restricted_offset] .* median(quarterly_trend, dims=2)[:]))\n",
    "CSV.write(\"$(model_folder)/results_csv/output_trend_monthly.csv\", DataFrame(x=T_GDPᵐ[:, 1 + restricted_offset]))\n",
    "CSV.write(\"$(model_folder)/results_csv/inflation_trend_monthly.csv\", DataFrame(x=Tᵐ[:,6 + restricted_offset]))"
   ]
  },
  {
   "cell_type": "code",
   "execution_count": null,
   "metadata": {},
   "outputs": [],
   "source": []
  }
 ],
 "metadata": {
  "@webio": {
   "lastCommId": null,
   "lastKernelId": null
  },
  "celltoolbar": "Raw Cell Format",
  "kernelspec": {
   "display_name": "Julia 1.0.5",
   "language": "julia",
   "name": "julia-1.0"
  },
  "language_info": {
   "file_extension": ".jl",
   "mimetype": "application/julia",
   "name": "julia",
   "version": "1.0.5"
  }
 },
 "nbformat": 4,
 "nbformat_minor": 2
}
